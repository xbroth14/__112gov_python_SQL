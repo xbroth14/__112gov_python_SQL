{
 "cells": [
  {
   "cell_type": "code",
   "execution_count": 1,
   "metadata": {},
   "outputs": [],
   "source": [
    "std = [{'Name':'Tim' ,'chiness':95,'math':85,'english':100},\n",
    "       {'Name':'Josh' ,'chiness':80,'math':65,'english':10},\n",
    "       {'Name':'Jhone' ,'chiness':100,'math':55,'english':50},\n",
    "       ]\n"
   ]
  },
  {
   "cell_type": "code",
   "execution_count": 4,
   "metadata": {},
   "outputs": [
    {
     "name": "stdout",
     "output_type": "stream",
     "text": [
      "Tim\n",
      "95\n",
      "85\n",
      "100\n",
      "=========================\n",
      "Josh\n",
      "80\n",
      "65\n",
      "10\n",
      "=========================\n",
      "Jhone\n",
      "100\n",
      "55\n",
      "50\n",
      "=========================\n"
     ]
    }
   ],
   "source": [
    "for student in std:\n",
    "    for key in student:\n",
    "        print(student[key])\n",
    "    print('=========================')"
   ]
  }
 ],
 "metadata": {
  "kernelspec": {
   "display_name": "postgreSQL",
   "language": "python",
   "name": "python3"
  },
  "language_info": {
   "codemirror_mode": {
    "name": "ipython",
    "version": 3
   },
   "file_extension": ".py",
   "mimetype": "text/x-python",
   "name": "python",
   "nbconvert_exporter": "python",
   "pygments_lexer": "ipython3",
   "version": "3.10.13"
  }
 },
 "nbformat": 4,
 "nbformat_minor": 2
}
